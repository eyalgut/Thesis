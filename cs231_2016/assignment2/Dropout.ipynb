{
 "cells": [
  {
   "cell_type": "markdown",
   "metadata": {},
   "source": [
    "# Dropout\n",
    "Dropout [1] is a technique for regularizing neural networks by randomly setting some features to zero during the forward pass. In this exercise you will implement a dropout layer and modify your fully-connected network to optionally use dropout.\n",
    "\n",
    "[1] Geoffrey E. Hinton et al, \"Improving neural networks by preventing co-adaptation of feature detectors\", arXiv 2012"
   ]
  },
  {
   "cell_type": "code",
   "execution_count": 1,
   "metadata": {
    "collapsed": false
   },
   "outputs": [
    {
     "name": "stdout",
     "output_type": "stream",
     "text": [
      "run the following from the cs231n directory and try again:\n",
      "python setup.py build_ext --inplace\n",
      "You may also need to restart your iPython kernel\n"
     ]
    }
   ],
   "source": [
    "# As usual, a bit of setup\n",
    "\n",
    "import time\n",
    "import numpy as np\n",
    "import matplotlib.pyplot as plt\n",
    "from cs231n.classifiers.fc_net import *\n",
    "from cs231n.data_utils import get_CIFAR10_data\n",
    "from cs231n.gradient_check import eval_numerical_gradient, eval_numerical_gradient_array\n",
    "from cs231n.solver import Solver\n",
    "\n",
    "%matplotlib inline\n",
    "plt.rcParams['figure.figsize'] = (10.0, 8.0) # set default size of plots\n",
    "plt.rcParams['image.interpolation'] = 'nearest'\n",
    "plt.rcParams['image.cmap'] = 'gray'\n",
    "\n",
    "# for auto-reloading external modules\n",
    "# see http://stackoverflow.com/questions/1907993/autoreload-of-modules-in-ipython\n",
    "%load_ext autoreload\n",
    "%autoreload 2\n",
    "\n",
    "def rel_error(x, y):\n",
    "  \"\"\" returns relative error \"\"\"\n",
    "  return np.max(np.abs(x - y) / (np.maximum(1e-8, np.abs(x) + np.abs(y))))"
   ]
  },
  {
   "cell_type": "code",
   "execution_count": 2,
   "metadata": {
    "collapsed": false
   },
   "outputs": [
    {
     "name": "stdout",
     "output_type": "stream",
     "text": [
      "X_val:  (1000L, 3L, 32L, 32L)\n",
      "X_train:  (49000L, 3L, 32L, 32L)\n",
      "X_test:  (1000L, 3L, 32L, 32L)\n",
      "y_val:  (1000L,)\n",
      "y_train:  (49000L,)\n",
      "y_test:  (1000L,)\n"
     ]
    }
   ],
   "source": [
    "# Load the (preprocessed) CIFAR10 data.\n",
    "\n",
    "data = get_CIFAR10_data()\n",
    "for k, v in data.iteritems():\n",
    "  print '%s: ' % k, v.shape"
   ]
  },
  {
   "cell_type": "markdown",
   "metadata": {},
   "source": [
    "# Dropout forward pass\n",
    "In the file `cs231n/layers.py`, implement the forward pass for dropout. Since dropout behaves differently during training and testing, make sure to implement the operation for both modes.\n",
    "\n",
    "Once you have done so, run the cell below to test your implementation."
   ]
  },
  {
   "cell_type": "code",
   "execution_count": null,
   "metadata": {
    "collapsed": false
   },
   "outputs": [],
   "source": []
  },
  {
   "cell_type": "code",
   "execution_count": 9,
   "metadata": {
    "collapsed": false
   },
   "outputs": [
    {
     "name": "stdout",
     "output_type": "stream",
     "text": [
      "Running tests with p =  0.3\n",
      "Mean of input:  9.99938158065\n",
      "Mean of train-time output:  10.0200970917\n",
      "Mean of test-time output:  9.99938158065\n",
      "Fraction of train-time output set to zero:  0.69932\n",
      "Fraction of test-time output set to zero:  0.0\n",
      "\n",
      "Running tests with p =  0.6\n",
      "Mean of input:  9.99938158065\n",
      "Mean of train-time output:  9.99195686077\n",
      "Mean of test-time output:  9.99938158065\n",
      "Fraction of train-time output set to zero:  0.400492\n",
      "Fraction of test-time output set to zero:  0.0\n",
      "\n",
      "Running tests with p =  0.75\n",
      "Mean of input:  9.99938158065\n",
      "Mean of train-time output:  9.99948664076\n",
      "Mean of test-time output:  9.99938158065\n",
      "Fraction of train-time output set to zero:  0.250028\n",
      "Fraction of test-time output set to zero:  0.0\n",
      "\n"
     ]
    }
   ],
   "source": [
    "x = np.random.randn(500, 500) + 10\n",
    "\n",
    "for p in [0.3, 0.6, 0.75]:\n",
    "  out, _ = dropout_forward(x, {'mode': 'train', 'p': p})\n",
    "  out_test, _ = dropout_forward(x, {'mode': 'test', 'p': p})\n",
    "\n",
    "  print 'Running tests with p = ', p\n",
    "  print 'Mean of input: ', x.mean()\n",
    "  print 'Mean of train-time output: ', out.mean()\n",
    "  print 'Mean of test-time output: ', out_test.mean()\n",
    "  print 'Fraction of train-time output set to zero: ', (out == 0).mean()\n",
    "  print 'Fraction of test-time output set to zero: ', (out_test == 0).mean()\n",
    "  print"
   ]
  },
  {
   "cell_type": "markdown",
   "metadata": {},
   "source": [
    "# Dropout backward pass\n",
    "In the file `cs231n/layers.py`, implement the backward pass for dropout. After doing so, run the following cell to numerically gradient-check your implementation."
   ]
  },
  {
   "cell_type": "code",
   "execution_count": 11,
   "metadata": {
    "collapsed": false
   },
   "outputs": [
    {
     "name": "stdout",
     "output_type": "stream",
     "text": [
      " dx relative error:  5.44561089195e-11\n"
     ]
    }
   ],
   "source": [
    "x = np.random.randn(10, 10) + 10\n",
    "dout = np.random.randn(*x.shape)\n",
    "\n",
    "dropout_param = {'mode': 'train', 'p': 0.8, 'seed': 123}\n",
    "out, cache = dropout_forward(x, dropout_param)\n",
    "dx = dropout_backward(dout, cache)\n",
    "dx_num = eval_numerical_gradient_array(lambda xx: dropout_forward(xx, dropout_param)[0], x, dout)\n",
    "\n",
    "print 'dx relative error: ', rel_error(dx, dx_num)"
   ]
  },
  {
   "cell_type": "code",
   "execution_count": 15,
   "metadata": {
    "collapsed": false
   },
   "outputs": [
    {
     "data": {
      "text/plain": [
       "(1, 2, 3)"
      ]
     },
     "execution_count": 15,
     "metadata": {},
     "output_type": "execute_result"
    }
   ],
   "source": [
    "(1,2)+(3,)"
   ]
  },
  {
   "cell_type": "markdown",
   "metadata": {},
   "source": [
    "# Fully-connected nets with Dropout\n",
    "In the file `cs231n/classifiers/fc_net.py`, modify your implementation to use dropout. Specificially, if the constructor the the net receives a nonzero value for the `dropout` parameter, then the net should add dropout immediately after every ReLU nonlinearity. After doing so, run the following to numerically gradient-check your implementation."
   ]
  },
  {
   "cell_type": "code",
   "execution_count": 17,
   "metadata": {
    "collapsed": false
   },
   "outputs": [
    {
     "name": "stdout",
     "output_type": "stream",
     "text": [
      "Running check with dropout =  0\n",
      "Initial loss:  2.30809940538\n",
      "W1 relative error: 4.52e-07\n",
      "W2 relative error: 8.08e-08\n",
      "W3 relative error: 3.06e-06\n",
      "b1 relative error: 2.09e-08\n",
      "b2 relative error: 7.31e-09\n",
      "b3 relative error: 9.13e-11\n",
      "\n",
      "Running check with dropout =  0.25\n",
      "Initial loss:  2.30284217162\n",
      "W1 relative error: 2.04e-07\n",
      "W2 relative error: 1.81e-08\n",
      "W3 relative error: 1.18e-07\n",
      "b1 relative error: 7.65e-09\n",
      "b2 relative error: 1.49e-09\n",
      "b3 relative error: 1.22e-10\n",
      "\n",
      "Running check with dropout =  0.5\n",
      "Initial loss:  2.31409279869\n",
      "W1 relative error: 6.48e-08\n",
      "W2 relative error: 1.13e-07\n",
      "W3 relative error: 3.54e-08\n",
      "b1 relative error: 4.12e-09\n",
      "b2 relative error: 1.50e-09\n",
      "b3 relative error: 1.22e-10\n",
      "\n"
     ]
    }
   ],
   "source": [
    "N, D, H1, H2, C = 2, 15, 20, 30, 10\n",
    "X = np.random.randn(N, D)\n",
    "y = np.random.randint(C, size=(N,))\n",
    "\n",
    "for dropout in [0, 0.25, 0.5]:\n",
    "  print 'Running check with dropout = ', dropout\n",
    "  model = FullyConnectedNet([H1, H2], input_dim=D, num_classes=C,\n",
    "                            weight_scale=5e-2, dtype=np.float64,\n",
    "                            dropout=dropout, seed=123)\n",
    "\n",
    "  loss, grads = model.loss(X, y)\n",
    "  print 'Initial loss: ', loss\n",
    "\n",
    "  for name in sorted(grads):\n",
    "    f = lambda _: model.loss(X, y)[0]\n",
    "    grad_num = eval_numerical_gradient(f, model.params[name], verbose=False, h=1e-5)\n",
    "    print '%s relative error: %.2e' % (name, rel_error(grad_num, grads[name]))\n",
    "  print"
   ]
  },
  {
   "cell_type": "markdown",
   "metadata": {},
   "source": [
    "# Regularization experiment\n",
    "As an experiment, we will train a pair of two-layer networks on 500 training examples: one will use no dropout, and one will use a dropout probability of 0.75. We will then visualize the training and validation accuracies of the two networks over time."
   ]
  },
  {
   "cell_type": "code",
   "execution_count": 31,
   "metadata": {
    "collapsed": false,
    "scrolled": false
   },
   "outputs": [
    {
     "name": "stdout",
     "output_type": "stream",
     "text": [
      "0\n",
      "(Iteration 1 / 1250) loss: 6.525770\n",
      "(Epoch 0 / 25) train acc: 0.184000; val_acc: 0.174000\n",
      "(Epoch 1 / 25) train acc: 0.397000; val_acc: 0.307000\n",
      "(Epoch 2 / 25) train acc: 0.500000; val_acc: 0.335000\n",
      "(Iteration 101 / 1250) loss: 3.911751\n",
      "(Epoch 3 / 25) train acc: 0.544000; val_acc: 0.336000\n",
      "(Epoch 4 / 25) train acc: 0.555000; val_acc: 0.327000\n",
      "(Iteration 201 / 1250) loss: 2.003681\n",
      "(Epoch 5 / 25) train acc: 0.644000; val_acc: 0.370000\n",
      "(Epoch 6 / 25) train acc: 0.673000; val_acc: 0.383000\n",
      "(Iteration 301 / 1250) loss: 1.297100\n",
      "(Epoch 7 / 25) train acc: 0.746000; val_acc: 0.363000\n",
      "(Epoch 8 / 25) train acc: 0.791000; val_acc: 0.355000\n",
      "(Iteration 401 / 1250) loss: 0.569607\n",
      "(Epoch 9 / 25) train acc: 0.767000; val_acc: 0.392000\n",
      "(Epoch 10 / 25) train acc: 0.757000; val_acc: 0.377000\n",
      "(Iteration 501 / 1250) loss: 0.989266\n",
      "(Epoch 11 / 25) train acc: 0.790000; val_acc: 0.362000\n",
      "(Epoch 12 / 25) train acc: 0.777000; val_acc: 0.365000\n",
      "(Iteration 601 / 1250) loss: 1.140712\n",
      "(Epoch 13 / 25) train acc: 0.785000; val_acc: 0.374000\n",
      "(Epoch 14 / 25) train acc: 0.761000; val_acc: 0.381000\n",
      "(Iteration 701 / 1250) loss: 0.965893\n",
      "(Epoch 15 / 25) train acc: 0.774000; val_acc: 0.370000\n",
      "(Epoch 16 / 25) train acc: 0.787000; val_acc: 0.378000\n",
      "(Iteration 801 / 1250) loss: 1.039133\n",
      "(Epoch 17 / 25) train acc: 0.812000; val_acc: 0.386000\n",
      "(Epoch 18 / 25) train acc: 0.789000; val_acc: 0.375000\n",
      "(Iteration 901 / 1250) loss: 1.130873\n",
      "(Epoch 19 / 25) train acc: 0.771000; val_acc: 0.369000\n",
      "(Epoch 20 / 25) train acc: 0.733000; val_acc: 0.360000\n",
      "(Iteration 1001 / 1250) loss: 2.113085\n",
      "(Epoch 21 / 25) train acc: 0.771000; val_acc: 0.391000\n",
      "(Epoch 22 / 25) train acc: 0.707000; val_acc: 0.335000\n",
      "(Iteration 1101 / 1250) loss: 2.219002\n",
      "(Epoch 23 / 25) train acc: 0.802000; val_acc: 0.375000\n",
      "(Epoch 24 / 25) train acc: 0.768000; val_acc: 0.349000\n",
      "(Iteration 1201 / 1250) loss: 1.612884\n",
      "(Epoch 25 / 25) train acc: 0.820000; val_acc: 0.362000\n",
      "0.75\n",
      "(Iteration 1 / 1250) loss: 8.729063\n",
      "(Epoch 0 / 25) train acc: 0.208000; val_acc: 0.190000\n",
      "(Epoch 1 / 25) train acc: 0.390000; val_acc: 0.296000\n",
      "(Epoch 2 / 25) train acc: 0.521000; val_acc: 0.349000\n",
      "(Iteration 101 / 1250) loss: 5.259295\n",
      "(Epoch 3 / 25) train acc: 0.500000; val_acc: 0.369000\n",
      "(Epoch 4 / 25) train acc: 0.544000; val_acc: 0.371000\n",
      "(Iteration 201 / 1250) loss: 2.640093\n",
      "(Epoch 5 / 25) train acc: 0.532000; val_acc: 0.359000\n",
      "(Epoch 6 / 25) train acc: 0.628000; val_acc: 0.375000\n",
      "(Iteration 301 / 1250) loss: 1.748499\n",
      "(Epoch 7 / 25) train acc: 0.619000; val_acc: 0.374000\n",
      "(Epoch 8 / 25) train acc: 0.667000; val_acc: 0.363000\n",
      "(Iteration 401 / 1250) loss: 1.408110\n",
      "(Epoch 9 / 25) train acc: 0.647000; val_acc: 0.385000\n",
      "(Epoch 10 / 25) train acc: 0.640000; val_acc: 0.361000\n",
      "(Iteration 501 / 1250) loss: 2.500577\n",
      "(Epoch 11 / 25) train acc: 0.664000; val_acc: 0.363000\n",
      "(Epoch 12 / 25) train acc: 0.660000; val_acc: 0.392000\n",
      "(Iteration 601 / 1250) loss: 1.855111\n",
      "(Epoch 13 / 25) train acc: 0.676000; val_acc: 0.360000\n",
      "(Epoch 14 / 25) train acc: 0.673000; val_acc: 0.381000\n",
      "(Iteration 701 / 1250) loss: 1.315858\n",
      "(Epoch 15 / 25) train acc: 0.686000; val_acc: 0.372000\n",
      "(Epoch 16 / 25) train acc: 0.669000; val_acc: 0.363000\n",
      "(Iteration 801 / 1250) loss: 2.331999\n",
      "(Epoch 17 / 25) train acc: 0.688000; val_acc: 0.360000\n",
      "(Epoch 18 / 25) train acc: 0.658000; val_acc: 0.378000\n",
      "(Iteration 901 / 1250) loss: 2.005293\n",
      "(Epoch 19 / 25) train acc: 0.647000; val_acc: 0.359000\n",
      "(Epoch 20 / 25) train acc: 0.704000; val_acc: 0.365000\n",
      "(Iteration 1001 / 1250) loss: 1.607612\n",
      "(Epoch 21 / 25) train acc: 0.676000; val_acc: 0.356000\n",
      "(Epoch 22 / 25) train acc: 0.683000; val_acc: 0.357000\n",
      "(Iteration 1101 / 1250) loss: 4.104538\n",
      "(Epoch 23 / 25) train acc: 0.686000; val_acc: 0.362000\n",
      "(Epoch 24 / 25) train acc: 0.649000; val_acc: 0.375000\n",
      "(Iteration 1201 / 1250) loss: 3.361330\n",
      "(Epoch 25 / 25) train acc: 0.713000; val_acc: 0.374000\n"
     ]
    }
   ],
   "source": [
    "# Train two identical nets, one with dropout and one without\n",
    "\n",
    "num_train = 5000\n",
    "small_data = {\n",
    "  'X_train': data['X_train'][:num_train],\n",
    "  'y_train': data['y_train'][:num_train],\n",
    "  'X_val': data['X_val'],\n",
    "  'y_val': data['y_val'],\n",
    "}\n",
    "\n",
    "solvers = {}\n",
    "dropout_choices = [0, 0.75]\n",
    "for dropout in dropout_choices:\n",
    "  model = FullyConnectedNet([500], dropout=dropout)\n",
    "  print dropout\n",
    "\n",
    "  solver = Solver(model, small_data,\n",
    "                  num_epochs=25, batch_size=100,\n",
    "                  update_rule='adam',\n",
    "                  optim_config={\n",
    "                    'learning_rate': 5e-4,\n",
    "                  },\n",
    "                  verbose=True, print_every=100)\n",
    "  solver.train()\n",
    "  solvers[dropout] = solver"
   ]
  },
  {
   "cell_type": "code",
   "execution_count": 32,
   "metadata": {
    "collapsed": false
   },
   "outputs": [
    {
     "data": {
      "image/png": "[encoded data removed]",
      "text/plain": [
       "<matplotlib.figure.Figure at 0xbd04cc0>"
      ]
     },
     "metadata": {},
     "output_type": "display_data"
    }
   ],
   "source": [
    "# Plot train and validation accuracies of the two models\n",
    "\n",
    "train_accs = []\n",
    "val_accs = []\n",
    "for dropout in dropout_choices:\n",
    "  solver = solvers[dropout]\n",
    "  train_accs.append(solver.train_acc_history[-1])\n",
    "  val_accs.append(solver.val_acc_history[-1])\n",
    "\n",
    "plt.subplot(3, 1, 1)\n",
    "for dropout in dropout_choices:\n",
    "  plt.plot(solvers[dropout].train_acc_history, 'o', label='%.2f dropout' % dropout)\n",
    "plt.title('Train accuracy')\n",
    "plt.xlabel('Epoch')\n",
    "plt.ylabel('Accuracy')\n",
    "plt.legend(ncol=2, loc='lower right')\n",
    "  \n",
    "plt.subplot(3, 1, 2)\n",
    "for dropout in dropout_choices:\n",
    "  plt.plot(solvers[dropout].val_acc_history, 'o', label='%.2f dropout' % dropout)\n",
    "plt.title('Val accuracy')\n",
    "plt.xlabel('Epoch')\n",
    "plt.ylabel('Accuracy')\n",
    "plt.legend(ncol=2, loc='lower right')\n",
    "\n",
    "plt.gcf().set_size_inches(15, 15)\n",
    "plt.show()"
   ]
  },
  {
   "cell_type": "markdown",
   "metadata": {},
   "source": [
    "# Question\n",
    "Explain what you see in this experiment. What does it suggest about dropout?"
   ]
  },
  {
   "cell_type": "code",
   "execution_count": 34,
   "metadata": {
    "collapsed": false
   },
   "outputs": [
    {
     "name": "stdout",
     "output_type": "stream",
     "text": [
      "None :)\n"
     ]
    }
   ],
   "source": [
    "print 'None :)'"
   ]
  },
  {
   "cell_type": "markdown",
   "metadata": {},
   "source": [
    "# Answer\n"
   ]
  }
 ],
 "metadata": {
  "kernelspec": {
   "display_name": "Python 2",
   "language": "python",
   "name": "python2"
  },
  "language_info": {
   "codemirror_mode": {
    "name": "ipython",
    "version": 2
   },
   "file_extension": ".py",
   "mimetype": "text/x-python",
   "name": "python",
   "nbconvert_exporter": "python",
   "pygments_lexer": "ipython2",
   "version": "2.7.13"
  }
 },
 "nbformat": 4,
 "nbformat_minor": 0
}
